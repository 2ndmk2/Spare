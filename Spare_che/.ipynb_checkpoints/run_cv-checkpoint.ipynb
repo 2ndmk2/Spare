{
 "cells": [
  {
   "cell_type": "code",
   "execution_count": 2,
   "metadata": {},
   "outputs": [],
   "source": [
    "import module\n",
    "from module import *\n",
    "import importlib\n",
    "importlib.reload(module)\n",
    "import readpng as rpng\n",
    "\n",
    "## Loading \"che\" figure\n",
    "img=rpng.get_bwimg(\"./figure_make/che.png\")\n",
    "\n",
    "\n",
    "## Configuration\n",
    "Nx, Ny = np.shape(img)## Nx;  number of data along \"i\", Ny: number of data  along \"j\"\n",
    "N_data = 1000 ## Number of data\n",
    "\n",
    "\n",
    "\n",
    "## Data making\n",
    "## random_generator: Function for making data\n",
    "## d; array (N_data)      Observed data (sum of luminosity)\n",
    "## g: tensor (N_data, Nx, Ny)      Weighting matrix in observation \n",
    "rand_now = random_generator(N_data, Nx, Ny)\n",
    "d, g=rand_now.make_data(I_ans,20) \n",
    "g = np.array(g)\n",
    "\n"
   ]
  },
  {
   "cell_type": "code",
   "execution_count": null,
   "metadata": {},
   "outputs": [],
   "source": [
    "## Sparse modeling (CV)\n",
    "\n",
    "\"\"\"\n",
    "## BE CAREFUL\n",
    "## THIS CODE TAKES 1min * 80 = 80mins\n",
    "\"\"\"\n",
    "\n",
    "ana_main = main_sparse(d,g)\n",
    "l1_arr = [10**i for i in [-8, -6, -4, -2]]\n",
    "ltsv_arr = [10**i for i in [-8, -6, -4, -2]]\n",
    "n_fold = 5\n",
    "ana_main.cv(l1_arr, ltsv_arr, n_fold, folder_name = \"./cv_test\")\n",
    "\n",
    "\n"
   ]
  },
  {
   "cell_type": "code",
   "execution_count": null,
   "metadata": {},
   "outputs": [],
   "source": [
    "## Sparse modeling (non CV)\n",
    "\n",
    "\n",
    "\"\"\"\n",
    "## BE CAREFUL\n",
    "## THIS CODE TAKES =1min * 16 = 16mins\n",
    "\"\"\"\n",
    "\n",
    "ana_main = main_sparse(d,g)\n",
    "l1_arr = [10**i for i in [-8, -6, -4, -2]]\n",
    "ltsv_arr = [10**i for i in [-8, -6, -4, -2]]\n",
    "n_fold = 5\n",
    "ana_main.solve_without_cv(l1_arr, ltsv_arr, folder_name = \"./cv_test\")\n",
    "\n",
    "\n",
    "\n",
    "\n"
   ]
  },
  {
   "cell_type": "code",
   "execution_count": null,
   "metadata": {},
   "outputs": [],
   "source": []
  }
 ],
 "metadata": {
  "kernelspec": {
   "display_name": "Python 3",
   "language": "python",
   "name": "python3"
  },
  "language_info": {
   "codemirror_mode": {
    "name": "ipython",
    "version": 3
   },
   "file_extension": ".py",
   "mimetype": "text/x-python",
   "name": "python",
   "nbconvert_exporter": "python",
   "pygments_lexer": "ipython3",
   "version": "3.6.2"
  }
 },
 "nbformat": 4,
 "nbformat_minor": 2
}

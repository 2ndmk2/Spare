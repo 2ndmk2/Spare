{
 "cells": [
  {
   "cell_type": "code",
   "execution_count": 7,
   "metadata": {},
   "outputs": [
    {
     "name": "stdout",
     "output_type": "stream",
     "text": [
      "0/5, l1: -8/-2, ltsv: -8/-2. elapsed time: 45.895081\n",
      "1/5, l1: -8/-2, ltsv: -8/-2. elapsed time: 64.368817\n",
      "2/5, l1: -8/-2, ltsv: -8/-2. elapsed time: 77.803792\n",
      "3/5, l1: -8/-2, ltsv: -8/-2. elapsed time: 99.406196\n",
      "4/5, l1: -8/-2, ltsv: -8/-2. elapsed time: 125.362390\n",
      "0/5, l1: -8/-2, ltsv: -2/-2. elapsed time: 84.770486\n",
      "1/5, l1: -8/-2, ltsv: -2/-2. elapsed time: 80.803786\n",
      "2/5, l1: -8/-2, ltsv: -2/-2. elapsed time: 78.923657\n",
      "3/5, l1: -8/-2, ltsv: -2/-2. elapsed time: 80.752216\n",
      "4/5, l1: -8/-2, ltsv: -2/-2. elapsed time: 77.813543\n",
      "0/5, l1: -2/-2, ltsv: -8/-2. elapsed time: 51.157746\n",
      "1/5, l1: -2/-2, ltsv: -8/-2. elapsed time: 44.009605\n",
      "2/5, l1: -2/-2, ltsv: -8/-2. elapsed time: 31.091162\n",
      "3/5, l1: -2/-2, ltsv: -8/-2. elapsed time: 26.221092\n",
      "4/5, l1: -2/-2, ltsv: -8/-2. elapsed time: 20.284876\n",
      "0/5, l1: -2/-2, ltsv: -2/-2. elapsed time: 64.785706\n",
      "1/5, l1: -2/-2, ltsv: -2/-2. elapsed time: 58.742658\n",
      "2/5, l1: -2/-2, ltsv: -2/-2. elapsed time: 59.669878\n",
      "3/5, l1: -2/-2, ltsv: -2/-2. elapsed time: 59.060510\n",
      "4/5, l1: -2/-2, ltsv: -2/-2. elapsed time: 62.333379\n"
     ]
    },
    {
     "ename": "TypeError",
     "evalue": "'list' object cannot be interpreted as an integer",
     "output_type": "error",
     "traceback": [
      "\u001b[0;31m---------------------------------------------------------------------------\u001b[0m",
      "\u001b[0;31mTypeError\u001b[0m                                 Traceback (most recent call last)",
      "\u001b[0;32m<ipython-input-7-245f2cf0c110>\u001b[0m in \u001b[0;36m<module>\u001b[0;34m\u001b[0m\n\u001b[1;32m     56\u001b[0m \u001b[0mltsv_arr\u001b[0m \u001b[0;34m=\u001b[0m \u001b[0;34m[\u001b[0m\u001b[0;36m10\u001b[0m\u001b[0;34m**\u001b[0m\u001b[0mi\u001b[0m \u001b[0;32mfor\u001b[0m \u001b[0mi\u001b[0m \u001b[0;32min\u001b[0m \u001b[0;34m[\u001b[0m\u001b[0;34m-\u001b[0m\u001b[0;36m8\u001b[0m\u001b[0;34m,\u001b[0m \u001b[0;34m-\u001b[0m\u001b[0;36m2\u001b[0m\u001b[0;34m]\u001b[0m\u001b[0;34m]\u001b[0m\u001b[0;34m\u001b[0m\u001b[0;34m\u001b[0m\u001b[0m\n\u001b[1;32m     57\u001b[0m \u001b[0mn_fold\u001b[0m \u001b[0;34m=\u001b[0m \u001b[0;36m5\u001b[0m\u001b[0;34m\u001b[0m\u001b[0;34m\u001b[0m\u001b[0m\n\u001b[0;32m---> 58\u001b[0;31m \u001b[0mana_main\u001b[0m\u001b[0;34m.\u001b[0m\u001b[0mcv\u001b[0m\u001b[0;34m(\u001b[0m\u001b[0ml1_arr\u001b[0m\u001b[0;34m,\u001b[0m \u001b[0mltsv_arr\u001b[0m\u001b[0;34m,\u001b[0m \u001b[0mn_fold\u001b[0m\u001b[0;34m,\u001b[0m \u001b[0mfolder_name\u001b[0m \u001b[0;34m=\u001b[0m \u001b[0;34m\"./cv_test\"\u001b[0m\u001b[0;34m)\u001b[0m\u001b[0;34m\u001b[0m\u001b[0;34m\u001b[0m\u001b[0m\n\u001b[0m\u001b[1;32m     59\u001b[0m \u001b[0;34m\u001b[0m\u001b[0m\n",
      "\u001b[0;32m~/Dropbox/planet_sparse/mfista_py/module.py\u001b[0m in \u001b[0;36mcv\u001b[0;34m(self, lambda_l1_row, lambda_tsv_row, n_fold, file_name_head, folder_name, file_out)\u001b[0m\n\u001b[1;32m    360\u001b[0m \u001b[0;34m\u001b[0m\u001b[0m\n\u001b[1;32m    361\u001b[0m         \u001b[0;31m# Outputting result\u001b[0m\u001b[0;34m\u001b[0m\u001b[0;34m\u001b[0m\u001b[0;34m\u001b[0m\u001b[0m\n\u001b[0;32m--> 362\u001b[0;31m         \u001b[0mself\u001b[0m\u001b[0;34m.\u001b[0m\u001b[0mcv_result_out\u001b[0m\u001b[0;34m(\u001b[0m\u001b[0mfile_out\u001b[0m \u001b[0;34m+\u001b[0m \u001b[0;34m\".dat\"\u001b[0m\u001b[0;34m)\u001b[0m\u001b[0;34m\u001b[0m\u001b[0;34m\u001b[0m\u001b[0m\n\u001b[0m\u001b[1;32m    363\u001b[0m         \u001b[0mplotter\u001b[0m \u001b[0;34m=\u001b[0m \u001b[0mCVPlotter\u001b[0m\u001b[0;34m(\u001b[0m\u001b[0mlen\u001b[0m\u001b[0;34m(\u001b[0m\u001b[0ml1_arr\u001b[0m\u001b[0;34m)\u001b[0m\u001b[0;34m,\u001b[0m \u001b[0mlen\u001b[0m\u001b[0;34m(\u001b[0m\u001b[0mltsv_arr\u001b[0m\u001b[0;34m)\u001b[0m\u001b[0;34m,\u001b[0m \u001b[0ml1_arr\u001b[0m\u001b[0;34m,\u001b[0m \u001b[0mltsv_arr\u001b[0m\u001b[0;34m)\u001b[0m\u001b[0;34m\u001b[0m\u001b[0;34m\u001b[0m\u001b[0m\n\u001b[1;32m    364\u001b[0m         \u001b[0mplotter\u001b[0m\u001b[0;34m.\u001b[0m\u001b[0mmake_cv_figure\u001b[0m\u001b[0;34m(\u001b[0m\u001b[0mfolder_name\u001b[0m\u001b[0;34m,\u001b[0m \u001b[0moutfile\u001b[0m\u001b[0;34m=\u001b[0m\u001b[0mfile_out\u001b[0m\u001b[0;34m+\u001b[0m\u001b[0;34m\".png\"\u001b[0m\u001b[0;34m,\u001b[0m \u001b[0mfile_name_head\u001b[0m\u001b[0;34m=\u001b[0m\u001b[0mfile_name_head\u001b[0m\u001b[0;34m)\u001b[0m\u001b[0;34m\u001b[0m\u001b[0;34m\u001b[0m\u001b[0m\n",
      "\u001b[0;32m~/Dropbox/planet_sparse/mfista_py/module.py\u001b[0m in \u001b[0;36mcv_result_out\u001b[0;34m(self, file_out)\u001b[0m\n\u001b[1;32m    370\u001b[0m         \u001b[0mprint\u001b[0m\u001b[0;34m(\u001b[0m\u001b[0;34m\"MSE, MSE_std, l1, ltsv\"\u001b[0m\u001b[0;34m,\u001b[0m \u001b[0mfile\u001b[0m \u001b[0;34m=\u001b[0m \u001b[0mfile_now\u001b[0m\u001b[0;34m)\u001b[0m\u001b[0;34m\u001b[0m\u001b[0;34m\u001b[0m\u001b[0m\n\u001b[1;32m    371\u001b[0m \u001b[0;34m\u001b[0m\u001b[0m\n\u001b[0;32m--> 372\u001b[0;31m         \u001b[0;32mfor\u001b[0m \u001b[0mi\u001b[0m \u001b[0;32min\u001b[0m \u001b[0mrange\u001b[0m\u001b[0;34m(\u001b[0m\u001b[0mself\u001b[0m\u001b[0;34m.\u001b[0m\u001b[0mMSE_result\u001b[0m\u001b[0;34m)\u001b[0m\u001b[0;34m:\u001b[0m\u001b[0;34m\u001b[0m\u001b[0;34m\u001b[0m\u001b[0m\n\u001b[0m\u001b[1;32m    373\u001b[0m             \u001b[0mprint\u001b[0m \u001b[0;34m(\u001b[0m\u001b[0;34m\"%f, %f, %f, %f\"\u001b[0m \u001b[0;34m%\u001b[0m \u001b[0;34m(\u001b[0m\u001b[0mself\u001b[0m\u001b[0;34m.\u001b[0m\u001b[0mMSE_result\u001b[0m\u001b[0;34m[\u001b[0m\u001b[0mi\u001b[0m\u001b[0;34m]\u001b[0m\u001b[0;34m,\u001b[0m \u001b[0mself\u001b[0m\u001b[0;34m.\u001b[0m\u001b[0mMSE_sigma_result\u001b[0m\u001b[0;34m[\u001b[0m\u001b[0mi\u001b[0m\u001b[0;34m]\u001b[0m\u001b[0;34m,\u001b[0m\u001b[0mself\u001b[0m\u001b[0;34m.\u001b[0m\u001b[0ml1_result\u001b[0m\u001b[0;34m[\u001b[0m\u001b[0mi\u001b[0m\u001b[0;34m]\u001b[0m\u001b[0;34m,\u001b[0m \u001b[0mself\u001b[0m\u001b[0;34m.\u001b[0m\u001b[0mltsv_result\u001b[0m\u001b[0;34m[\u001b[0m\u001b[0mi\u001b[0m\u001b[0;34m]\u001b[0m\u001b[0;34m)\u001b[0m\u001b[0;34m,\u001b[0m \u001b[0mfile\u001b[0m \u001b[0;34m=\u001b[0m \u001b[0mfile_now\u001b[0m\u001b[0;34m)\u001b[0m\u001b[0;34m\u001b[0m\u001b[0;34m\u001b[0m\u001b[0m\n\u001b[1;32m    374\u001b[0m         \u001b[0mfile_now\u001b[0m\u001b[0;34m.\u001b[0m\u001b[0mclose\u001b[0m\u001b[0;34m(\u001b[0m\u001b[0;34m)\u001b[0m\u001b[0;34m\u001b[0m\u001b[0;34m\u001b[0m\u001b[0m\n",
      "\u001b[0;31mTypeError\u001b[0m: 'list' object cannot be interpreted as an integer"
     ]
    }
   ],
   "source": [
    "import module\n",
    "from module import *\n",
    "import importlib\n",
    "importlib.reload(module)\n",
    "import readpng as rpng\n",
    "\n",
    "## Setting for data\n",
    "## Nx;  number of data along \"i\"\n",
    "## Ny: number of data  along \"j\"\n",
    "#img=rpng.get_bwimg(\"./figure_make/fig2.png\")\n",
    "img=rpng.get_bwimg(\"./figure_make/che.png\")\n",
    "#img = 1-img\n",
    "\n",
    "Nx, Ny = np.shape(img)\n",
    "N_data = 1000\n",
    "\n",
    "I_ans = np.zeros((Nx, Ny))\n",
    "\n",
    "\n",
    "### Making answers \n",
    "## I_{i,j}:  matrix (Nx, Ny)         I_{i,j} = Ny * i + j\n",
    "\n",
    "for i in range(Nx):\n",
    "    for j in range(Ny):\n",
    "        I_ans[i][j] = Ny * i  + j + (i-j)**3\n",
    "        \n",
    "I_ans = img\n",
    "#Testing 1d-2d array conversion   I_{i,j} <-> vec_I\n",
    "# vec_I; array (Nx*Ny)    vector corresponding to I_ans\n",
    "# re_I: same as I_ans\n",
    "# vec_I[j + Ny*x] = I_{0,0}   I_{0,1} ... \n",
    "# vec_I is returned to (re_I) via ravel() and reshape()\n",
    "\n",
    "vec_I = I_ans.ravel()  \n",
    "re_I = (vec_I.reshape(Nx, Ny))\n",
    "\n",
    "\n",
    "## Data making\n",
    "## random_generator: Function for making data\n",
    "## d; array (N_data)      Observed data (sum of luminosity)\n",
    "## g: tensor (N_data, Nx, Ny)      Weighting matrix in observation (\n",
    "rand_now = random_generator(N_data, Nx, Ny)\n",
    "d, A_ten=rand_now.make_data(I_ans,20) \n",
    "A_ten = np.array(A_ten)\n",
    "\n",
    "\n",
    "## Testing tensor calculation \"Sum_{j,k} (g_{i,j,k} * I_ans_{j,k} )\"\n",
    "## See d = g_{i,j,k}  I_ans_{j,k} \n",
    "\n",
    "#print (\"Sum_{j,k} (A_ten_{i,j,k} I_ans_{j,k}) = \", np.einsum(\"ijk,jk->i\", A_ten, I_ans))\n",
    "#print (\"d_{i}=\", d)\n",
    "#print (\"They agree!!\")\n",
    "\n",
    "ana_main = main_sparse(d, A_ten)\n",
    "l1_arr = [10**i for i in [-8, -2]]\n",
    "ltsv_arr = [10**i for i in [-8, -2]]\n",
    "n_fold = 5\n",
    "ana_main.cv(l1_arr, ltsv_arr, n_fold, folder_name = \"./cv_test\")\n",
    "\n"
   ]
  },
  {
   "cell_type": "code",
   "execution_count": null,
   "metadata": {},
   "outputs": [],
   "source": []
  }
 ],
 "metadata": {
  "kernelspec": {
   "display_name": "Python 3",
   "language": "python",
   "name": "python3"
  },
  "language_info": {
   "codemirror_mode": {
    "name": "ipython",
    "version": 3
   },
   "file_extension": ".py",
   "mimetype": "text/x-python",
   "name": "python",
   "nbconvert_exporter": "python",
   "pygments_lexer": "ipython3",
   "version": "3.7.3"
  }
 },
 "nbformat": 4,
 "nbformat_minor": 2
}
